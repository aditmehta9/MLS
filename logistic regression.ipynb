{
 "cells": [
  {
   "cell_type": "code",
   "execution_count": 118,
   "metadata": {
    "scrolled": false
   },
   "outputs": [],
   "source": [
    "%matplotlib inline\n",
    "import numpy as np\n",
    "import pandas as pd\n",
    "import math as mt\n",
    "from sympy import symbols, Derivative\n",
    "import statistics as st\n",
    "import matplotlib.pyplot as plt\n",
    "from mpl_toolkits import mplot3d\n",
    "from sklearn.model_selection import train_test_split\n"
   ]
  },
  {
   "cell_type": "code",
   "execution_count": 119,
   "metadata": {},
   "outputs": [],
   "source": [
    "data1 = pd.read_excel(\"ex2data1-logistic.xls\")\n",
    "data2 = pd.read_excel(\"ex2data2-logistic.xls\")"
   ]
  },
  {
   "cell_type": "code",
   "execution_count": 120,
   "metadata": {},
   "outputs": [],
   "source": [
    "def plotData(data):\n",
    "    x = np.atleast_2d(pd.DataFrame(data, columns = ['x1', 'x2']))\n",
    "    x[:,0] = (x[:,0] - st.mean(x[:,0]))/st.stdev(x[:,0]);\n",
    "    x[:,1] = (x[:,1] - st.mean(x[:,1]))/st.stdev(x[:,1]);\n",
    "    x1 = x[:,0]\n",
    "    x2 = x[:,1]\n",
    "    \n",
    "    y = np.array(data['y'])\n",
    "    cdict = {0: 'red', 1: 'blue'}\n",
    "    \n",
    "    plt.figure()\n",
    "    for g in np.unique(y):\n",
    "        ix = np.where(y == g)\n",
    "        plt.scatter(x1[ix], x2[ix], c = cdict[g], label = g)\n",
    "       \n",
    "    plt.legend() "
   ]
  },
  {
   "cell_type": "code",
   "execution_count": 121,
   "metadata": {},
   "outputs": [
    {
     "data": {
      "image/png": "[encoded data removed]",
      "text/plain": [
       "<matplotlib.figure.Figure at 0x7f7a0547d190>"
      ]
     },
     "metadata": {
      "needs_background": "light"
     },
     "output_type": "display_data"
    },
    {
     "data": {
      "image/png": "[encoded data removed]",
      "text/plain": [
       "<matplotlib.figure.Figure at 0x7f7a05703790>"
      ]
     },
     "metadata": {
      "needs_background": "light"
     },
     "output_type": "display_data"
    }
   ],
   "source": [
    "plotData(data1)\n",
    "plotData(data2)"
   ]
  },
  {
   "cell_type": "code",
   "execution_count": 154,
   "metadata": {},
   "outputs": [],
   "source": [
    "def spliteData1(data):\n",
    "\n",
    "    x = np.atleast_2d(pd.DataFrame(data, columns = ['x1', 'x2']))\n",
    "    \n",
    "    x[:,0] = (x[:,0] - st.mean(x[:,0]))/st.stdev(x[:,0])\n",
    "    x[:,1] = (x[:,1] - st.mean(x[:,1]))/st.stdev(x[:,1])\n",
    "    y = np.array(data['y'])\n",
    "#     x = x**2\n",
    "\n",
    "    x_train, x_test, y_train, y_test = train_test_split(x, y, test_size = 0.1)\n",
    "\n",
    "    o =  np.ones((x_train.shape[0],1))\n",
    "    x_train = np.hstack((o,x_train))\n",
    "\n",
    "    o =  np.ones((x_test.shape[0],1))\n",
    "    x_test = np.hstack((o,x_test))\n",
    "    \n",
    "    return x_train, x_test, y_train, y_test "
   ]
  },
  {
   "cell_type": "markdown",
   "metadata": {},
   "source": [
    "def spliteData2(data):\n",
    "\n",
    "    x = np.atleast_2d(pd.DataFrame(data, columns = ['x1', 'x2']))\n",
    "    \n",
    "    x[:,0] = (x[:,0] - st.mean(x[:,0]))/st.stdev(x[:,0])\n",
    "    x[:,1] = (x[:,1] - st.mean(x[:,1]))/st.stdev(x[:,1])\n",
    "    y = np.array(data['y'])\n",
    "    x1 = x **2\n",
    "    x = np.hstack([x,x1])\n",
    "    print(x)\n",
    "    x_train, x_test, y_train, y_test = train_test_split(x, y, test_size = 0.1)\n",
    "\n",
    "    o =  np.ones((x_train.shape[0],1))\n",
    "    x_train = np.hstack((o,x_train))\n",
    "\n",
    "    o =  np.ones((x_test.shape[0],1))\n",
    "    x_test = np.hstack((o,x_test))\n",
    "    \n",
    "    return x_train, x_test, y_train, y_test "
   ]
  },
  {
   "cell_type": "code",
   "execution_count": 155,
   "metadata": {},
   "outputs": [],
   "source": [
    "data = data1\n",
    "x_train, x_test, y_train, y_test = spliteData1(data)"
   ]
  },
  {
   "cell_type": "code",
   "execution_count": 156,
   "metadata": {},
   "outputs": [],
   "source": [
    "def segmoid(theta, x):\n",
    "    p = np.dot(x, theta) * -1\n",
    "#     print(p)\n",
    "    e =  mt.exp(p)\n",
    "    h = 1/(1+e)\n",
    "    return h"
   ]
  },
  {
   "cell_type": "code",
   "execution_count": 157,
   "metadata": {},
   "outputs": [],
   "source": [
    "def GD1(x_train,y_train):\n",
    "    \n",
    "    m = y_train.shape[0]\n",
    "    error = 25\n",
    "    minError = 0.01\n",
    "    theta_k = [1, 1, 1]\n",
    "    theta_k1 = [1, 1, 1]\n",
    "    alpha = 0.01\n",
    "    while error > minError:\n",
    "        l = [0.0, 0.0, 0.0]\n",
    "        for i in range(m):\n",
    "            s = y_train[i] - segmoid(theta_k, x_train[i])\n",
    "            l[0] = l[0] + s \n",
    "            l[1] = l[1] + s*x_train[i][1]\n",
    "            l[2] = l[2] + s*x_train[i][2]\n",
    "        \n",
    "        theta_k1[0] = theta_k[0] + alpha * l[0]\n",
    "        theta_k1[1] = theta_k[1] + alpha * l[1]\n",
    "        theta_k1[2] = theta_k[2] + alpha * l[2]\n",
    "        \n",
    "        error = abs(theta_k1[0] - theta_k[0])\n",
    "        error = max(error, abs(theta_k1[1] - theta_k[1]))\n",
    "        error = max(error, abs(theta_k1[2] - theta_k[2]))\n",
    "        theta_k = theta_k1\n",
    "#         print(abs(error))\n",
    "        \n",
    "    return theta_k"
   ]
  },
  {
   "cell_type": "markdown",
   "metadata": {},
   "source": [
    "def GD2(x_train,y_train):\n",
    "    \n",
    "    m = y_train.shape[0]\n",
    "    error = 25\n",
    "    minError = 0.01\n",
    "    theta_k = [1, 1, 1, 1, 1]\n",
    "    theta_k1 = [1, 1, 1, 1, 1]\n",
    "    alpha = 0.01\n",
    "    while error > minError:\n",
    "        l = [0.0, 0.0, 0.0, 0.0, 0.0]\n",
    "        for i in range(m):\n",
    "            s = y_train[i] - segmoid(theta_k, x_train[i])\n",
    "            l[0] = l[0] + s \n",
    "            l[1] = l[1] + s*x_train[i][1]\n",
    "            l[2] = l[2] + s*x_train[i][2]\n",
    "            l[3] = l[3] + s*x_train[i][3]\n",
    "            l[4] = l[4] + s*x_train[i][4]\n",
    "        \n",
    "        theta_k1[0] = theta_k[0] + alpha * l[0]\n",
    "        theta_k1[1] = theta_k[1] + alpha * l[1]\n",
    "        theta_k1[2] = theta_k[2] + alpha * l[2]\n",
    "        theta_k1[3] = theta_k[3] + alpha * l[3]\n",
    "        theta_k1[4] = theta_k[4] + alpha * l[4]\n",
    "        \n",
    "        error = abs(theta_k1[0] - theta_k[0])\n",
    "        error = max(error, abs(theta_k1[1] - theta_k[1]))\n",
    "        error = max(error, abs(theta_k1[2] - theta_k[2]))\n",
    "        error = max(error, abs(theta_k1[3] - theta_k[3]))\n",
    "        error = max(error, abs(theta_k1[4] - theta_k[4]))\n",
    "        theta_k = theta_k1\n",
    "        \n",
    "    return theta_k"
   ]
  },
  {
   "cell_type": "code",
   "execution_count": 158,
   "metadata": {},
   "outputs": [],
   "source": [
    "def plotDB1(data, theta):\n",
    "    \n",
    "    x = np.atleast_2d(pd.DataFrame(data, columns = ['x1', 'x2']))\n",
    "    x1 = (x[:,0] - st.mean(x[:,0]))/st.stdev(x[:,0])\n",
    "    x2 = (x[:,1] - st.mean(x[:,1]))/st.stdev(x[:,1])\n",
    "\n",
    "    y = data['y']\n",
    "    cdict = {0: 'red', 1: 'blue'}\n",
    "\n",
    "    plt.figure()\n",
    "    for g in np.unique(y):\n",
    "        ix = np.where(y == g)\n",
    "        plt.scatter(x1[ix], x2[ix], c = cdict[g], label = g)       \n",
    "    \n",
    "    plt.legend() \n",
    "    x = np.arange(-2,2, 0.1) ;\n",
    "    print(theta)\n",
    "    \n",
    "#     xdd = []\n",
    "#     ydd = []\n",
    "#     yd = (-theta[0] - theta[1]* x ** 2)/theta[2];\n",
    "#     for i in range(x.shape[0]):\n",
    "#         if yd[i] >= 0:\n",
    "#             xdd = np.append(xdd, x[i])\n",
    "#             ydd = np.append(ydd, yd[i])\n",
    "        \n",
    "    \n",
    "#     y = np.sqrt(ydd)\n",
    "#     plt.plot(xdd, y)\n",
    "#     plt.plot(xdd, -y)\n",
    "    \n",
    "    plt.plot(x, -1*(theta[0] + theta[1]*x)/theta[2])\n",
    "    \n",
    "    plt.show()"
   ]
  },
  {
   "cell_type": "markdown",
   "metadata": {},
   "source": [
    "def plotDB2(data, theta):\n",
    "    \n",
    "    x = np.atleast_2d(pd.DataFrame(data, columns = ['x1', 'x2']))\n",
    "    x[:,0] = (x[:,0] - st.mean(x[:,0]))/st.stdev(x[:,0])\n",
    "    x[:,1] = (x[:,1] - st.mean(x[:,1]))/st.stdev(x[:,1])\n",
    "    x1 = x[:,0]\n",
    "    x2 = x[:,1]\n",
    "    x3 = x **2\n",
    "    x = np.hstack([x,x3])\n",
    "    \n",
    "    y = data['y']\n",
    "    cdict = {0: 'red', 1: 'blue'}\n",
    "\n",
    "    plt.figure()\n",
    "    for g in np.unique(y):\n",
    "        ix = np.where(y == g)\n",
    "        plt.scatter(x1[ix], x2[ix], c = cdict[g], label = g)       \n",
    "    plt.legend() \n",
    "    print(theta)\n",
    " \n",
    "    plt.show()"
   ]
  },
  {
   "cell_type": "code",
   "execution_count": 159,
   "metadata": {
    "scrolled": true
   },
   "outputs": [
    {
     "name": "stdout",
     "output_type": "stream",
     "text": [
      "[0.8769956434056839, 1.2029911681399894, 1.146843077484327]\n"
     ]
    },
    {
     "data": {
      "image/png": "[encoded data removed]",
      "text/plain": [
       "<matplotlib.figure.Figure at 0x7f7a08fa09d0>"
      ]
     },
     "metadata": {
      "needs_background": "light"
     },
     "output_type": "display_data"
    }
   ],
   "source": [
    "theta = GD1(x_train, y_train)\n",
    "plotDB1(data, theta)\n"
   ]
  },
  {
   "cell_type": "code",
   "execution_count": 160,
   "metadata": {},
   "outputs": [],
   "source": [
    "def accuracy(x_test, y_test, theta):\n",
    "    \n",
    "    m = y_test.shape[0]\n",
    "    error = 0\n",
    "    y = 2\n",
    "    for i in range(m):\n",
    "        ht = segmoid(theta, x_test[i])\n",
    "        if ht > 1-ht:\n",
    "            y = 1\n",
    "        else:\n",
    "            y = 0\n",
    "            \n",
    "        if y != y_test[i]:\n",
    "            error = error + 1\n",
    "        \n",
    "    return 100*(m-error+0.0)/m"
   ]
  },
  {
   "cell_type": "code",
   "execution_count": 161,
   "metadata": {},
   "outputs": [
    {
     "data": {
      "text/plain": [
       "90.0"
      ]
     },
     "execution_count": 161,
     "metadata": {},
     "output_type": "execute_result"
    }
   ],
   "source": [
    "accuracy(x_test,y_test,theta)"
   ]
  },
  {
   "cell_type": "code",
   "execution_count": null,
   "metadata": {},
   "outputs": [],
   "source": []
  },
  {
   "cell_type": "code",
   "execution_count": 162,
   "metadata": {},
   "outputs": [
    {
     "data": {
      "text/plain": [
       "74"
      ]
     },
     "execution_count": 162,
     "metadata": {},
     "output_type": "execute_result"
    }
   ],
   "source": [
    "a = np.array([1,2, 3])\n",
    "b = np.array([11,12, 13])\n",
    "np.matmul(b,a)\n",
    "# np.multiply(a,b)\n",
    "# c = a[0]\n",
    "# print(type(c), a.shape, b.shape)\n",
    "# np.matmul(a,b)\n",
    "# b*a"
   ]
  }
 ],
 "metadata": {
  "kernelspec": {
   "display_name": "Python 3",
   "language": "python",
   "name": "python3"
  },
  "language_info": {
   "codemirror_mode": {
    "name": "ipython",
    "version": 2
   },
   "file_extension": ".py",
   "mimetype": "text/x-python",
   "name": "python",
   "nbconvert_exporter": "python",
   "pygments_lexer": "ipython2",
   "version": "2.7.15+"
  }
 },
 "nbformat": 4,
 "nbformat_minor": 2
}
